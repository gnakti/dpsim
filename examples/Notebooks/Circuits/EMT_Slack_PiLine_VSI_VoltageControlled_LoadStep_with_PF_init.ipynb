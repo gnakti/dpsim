{
 "cells": [
  {
   "cell_type": "code",
   "execution_count": null,
   "id": "cc7bc645-9bac-475e-9414-047c81f429f3",
   "metadata": {
    "tags": []
   },
   "outputs": [],
   "source": [
    "from villas.dataprocessing.readtools import *\n",
    "from villas.dataprocessing.timeseries import *\n",
    "import numpy as np\n",
    "import matplotlib.pyplot as plt\n",
    "import re\n",
    "#import dpsimpy\n",
    "\n",
    "%matplotlib widget"
   ]
  },
  {
   "cell_type": "code",
   "execution_count": null,
   "id": "c1e4e074-291e-4d49-854e-ff9d9e5ab874",
   "metadata": {
    "tags": []
   },
   "outputs": [],
   "source": [
    "import os\n",
    "import subprocess\n",
    "\n",
    "#%matplotlib widget\n",
    "\n",
    "name = 'EMT_Slack_PiLine_VSI_VoltageControlled_LoadStep_with_PF_Init'\n",
    "\n",
    "dpsim_path = subprocess.Popen(['git', 'rev-parse', '--show-toplevel'], stdout=subprocess.PIPE).communicate()[0].rstrip().decode('utf-8')\n",
    "\n",
    "path_exec = dpsim_path + '/build/dpsim/examples/cxx/'\n",
    "sim = subprocess.Popen([path_exec + name], stdout=subprocess.PIPE, stderr=subprocess.STDOUT)\n",
    "print(sim.communicate()[0].decode())"
   ]
  },
  {
   "cell_type": "code",
   "execution_count": null,
   "id": "1f06efec-2803-4379-9724-a4e108adc9a8",
   "metadata": {
    "tags": []
   },
   "outputs": [],
   "source": [
    "modelName = 'EMT_Slack_PiLine_VSI_VoltageControlled_LoadStep_with_PF_Init_EMT'\n",
    "path = 'logs/' + modelName + '/'\n",
    "dpsim_result_file = path + modelName + '.csv'\n",
    "PEAK1PH_TO_RMS3PH = np.sqrt(3.0/2.0)\n",
    "ts_dpsim = read_timeseries_csv(dpsim_result_file)\n",
    "# ts_dpsim_simulink = read_timeseries_csv('logs/pcc_transient_simulink.csv')"
   ]
  },
  {
   "cell_type": "code",
   "execution_count": null,
   "id": "b4bb8c68-e844-427a-88b3-945cd634b2b7",
   "metadata": {
    "tags": []
   },
   "outputs": [],
   "source": [
    "plt.figure(figsize=(12,6))\n",
    "plt.title('Spannung Node 1 - DPsim')\n",
    "plt.xlabel('Zeit t [ms]')\n",
    "plt.ylabel('Spannung U [V]')\n",
    "for ts_name, ts_obj  in ts_dpsim.items():\n",
    "    if ts_name in ['Spannung_PCC_0', 'Spannung_PCC_1', 'Spannung_PCC_2']:\n",
    "        plt.plot(ts_obj.time, PEAK1PH_TO_RMS3PH*ts_obj.values, label=ts_name)\n",
    "plt.axhline(y =400, color = 'r', linestyle = '-')\n",
    "plt.axhline(y =-400, color = 'r', linestyle = '-')\n",
    "# plt.ylim(-2000,2250)\n",
    "# plt.xlim(0,3.5)\n",
    "plt.legend()\n",
    "plt.show()"
   ]
  },
  {
   "cell_type": "code",
   "execution_count": null,
   "id": "c1bf7061-04c7-48d1-b64c-939f06476d4f",
   "metadata": {
    "tags": []
   },
   "outputs": [],
   "source": [
    "plt.figure(figsize=(12,6))\n",
    "plt.title('Spannung Load 1 - DPsim')\n",
    "plt.xlabel('Zeit t [ms]')\n",
    "plt.ylabel('Spannung U [V]')\n",
    "for ts_name, ts_obj  in ts_dpsim.items():\n",
    "    if ts_name in ['Spannung_Load1_0', 'Spannung_Load1_1', 'Spannung_Load1_2']:\n",
    "        plt.plot(ts_obj.time, PEAK1PH_TO_RMS3PH*ts_obj.values, label=ts_name)\n",
    "plt.axhline(y =400, color = 'r', linestyle = '-')\n",
    "plt.axhline(y =-400, color = 'r', linestyle = '-')\n",
    "plt.ylim(-1000,1000)\n",
    "plt.xlim(0,5)\n",
    "plt.legend()\n",
    "plt.show()"
   ]
  },
  {
   "cell_type": "code",
   "execution_count": null,
   "id": "75160760-72ee-4963-9ec0-4e6a74c102ca",
   "metadata": {
    "tags": []
   },
   "outputs": [],
   "source": [
    "plt.figure(figsize=(12,6))\n",
    "plt.title('Spannung Load 2 - DPsim')\n",
    "plt.xlabel('Zeit t [ms]')\n",
    "plt.ylabel('Spannung U [V]')\n",
    "for ts_name, ts_obj  in ts_dpsim.items():\n",
    "    if ts_name in ['Spannung_Load2_0', 'Spannung_Load2_1', 'Spannung_Load2_2']:\n",
    "        plt.plot(ts_obj.time, PEAK1PH_TO_RMS3PH*ts_obj.values, label=ts_name)\n",
    "plt.axhline(y =400, color = 'r', linestyle = '-')\n",
    "plt.axhline(y =-400, color = 'r', linestyle = '-')\n",
    "plt.ylim(-1000,1000)\n",
    "plt.xlim(0,5)\n",
    "plt.legend()\n",
    "plt.show()"
   ]
  },
  {
   "cell_type": "code",
   "execution_count": null,
   "id": "b00c3da6-9014-457d-ab78-0b6e2481467a",
   "metadata": {},
   "outputs": [],
   "source": [
    "plt.figure(figsize=(12,6))\n",
    "plt.title('Spannung PCC - Simulink')\n",
    "plt.xlabel('Zeit t [ms]')\n",
    "plt.ylabel('Spannung U [V]')\n",
    "for ts_name, ts_obj  in ts_dpsim_simulink.items():\n",
    "    if ts_name in ['Spannung_PCC_0', 'Spannung_PCC_1', 'Spannung_PCC_2']:\n",
    "        plt.plot(1000*ts_obj.time, ts_obj.values, label=ts_name)\n",
    "plt.axhline(y =400, color = 'r', linestyle = '-')\n",
    "plt.axhline(y =-400, color = 'r', linestyle = '-')\n",
    "plt.ylim(-500,500)\n",
    "plt.legend()\n",
    "plt.show()"
   ]
  },
  {
   "cell_type": "code",
   "execution_count": null,
   "id": "19793d0b-fc28-446f-9f22-a811b8a1fa2c",
   "metadata": {},
   "outputs": [],
   "source": [
    "plt.figure(figsize=(12,6))\n",
    "plt.title('Spannung Node 3 - DPsim')\n",
    "plt.xlabel('Zeit t [ms]')\n",
    "plt.ylabel('Spannung U [V]')\n",
    "for ts_name, ts_obj  in ts_dpsim.items():\n",
    "    if ts_name in ['Spannung_Node_3_0','Spannung_Node_3_1','Spannung_Node_3_2']:\n",
    "        plt.plot(1000*ts_obj.time, ts_obj.values, label=ts_name)\n",
    "plt.axhline(y =400, color = 'r', linestyle = '-')\n",
    "plt.axhline(y =-400, color = 'r', linestyle = '-')\n",
    "plt.ylim(-500,500)\n",
    "plt.legend()\n",
    "plt.show()"
   ]
  },
  {
   "cell_type": "code",
   "execution_count": null,
   "id": "0e97414d-dfb3-4c3f-b259-44cca6eb8807",
   "metadata": {},
   "outputs": [],
   "source": [
    "plt.figure(figsize=(12,6))\n",
    "plt.title('Eingangsspannung Wechselrichter - DPsim')\n",
    "plt.xlabel('Zeit t [ms]')\n",
    "plt.ylabel('Spannung U [V]')\n",
    "for ts_name, ts_obj  in ts_dpsim.items():\n",
    "    if ts_name in ['Spannung_Quelle_0','Spannung_Quelle_1','Spannung_Quelle_2']:\n",
    "        plt.plot(1000*ts_obj.time, ts_obj.values, label=ts_name)\n",
    "plt.axhline(y =400, color = 'r', linestyle = '-')\n",
    "plt.axhline(y =-400, color = 'r', linestyle = '-')\n",
    "plt.legend()\n",
    "plt.show()"
   ]
  },
  {
   "cell_type": "code",
   "execution_count": null,
   "id": "7b2c1319-8600-480f-8c66-bc15491edd3f",
   "metadata": {},
   "outputs": [],
   "source": [
    "plt.figure(figsize=(12,6))\n",
    "plt.title('Strom RLC - DPsim')\n",
    "plt.xlabel('Zeit t [ms]')\n",
    "plt.ylabel('Strom I [A]')\n",
    "for ts_name, ts_obj  in ts_dpsim.items():\n",
    "    if ts_name in ['Strom_RLC_0','Strom_RLC_1','Strom_RLC_2']:\n",
    "        plt.plot(1000*ts_obj.time, ts_obj.values, label=ts_name)\n",
    "plt.axhline(y =4120, color = 'r', linestyle = '-',label='4120 A')\n",
    "plt.axhline(y =-4120, color = 'r', linestyle = '-',label='-4120 A')\n",
    "plt.legend()\n",
    "plt.show()"
   ]
  },
  {
   "cell_type": "code",
   "execution_count": null,
   "id": "43348ffc-862b-4c24-a96e-82518aab7b82",
   "metadata": {},
   "outputs": [],
   "source": [
    "plt.figure(figsize=(12,6))\n",
    "plt.title('Strom RLC - Simulink')\n",
    "plt.xlabel('Zeit t [ms]')\n",
    "plt.ylabel('Strom I [A]')\n",
    "for ts_name, ts_obj  in ts_dpsim_simulink.items():\n",
    "    if ts_name in ['Current_RLC_0','Current_RLC_1','Current_RLC_2']:\n",
    "        plt.plot(1000*ts_obj.time, ts_obj.values, label=ts_name)\n",
    "plt.axhline(y =4120, color = 'r', linestyle = '-',label='4120 A')\n",
    "plt.axhline(y =-4120, color = 'r', linestyle = '-',label='-4120 A')\n",
    "plt.legend()\n",
    "plt.show()"
   ]
  },
  {
   "cell_type": "code",
   "execution_count": null,
   "id": "04bcfee1-2f23-4c4d-b598-2b87961c9c75",
   "metadata": {},
   "outputs": [],
   "source": [
    "plt.figure(figsize=(12,6))\n",
    "plt.title('VCO - Phase')\n",
    "plt.xlabel('Zeit t (ms)')\n",
    "plt.ylabel('Phase in rad/s')\n",
    "for ts_name, ts_obj  in ts_dpsim.items():\n",
    "    if ts_name in ['VCO_Phase']:\n",
    "        plt.plot(1000*ts_obj.time, ts_obj.values % 6.283, label=ts_name)\n",
    "\n",
    "plt.legend()\n",
    "plt.show()"
   ]
  },
  {
   "cell_type": "code",
   "execution_count": null,
   "id": "a08bf507-9eb5-42c9-81e8-beeec8d9531d",
   "metadata": {},
   "outputs": [],
   "source": [
    "plt.figure(figsize=(12,6))\n",
    "plt.title('Leistung PCC - Simulink')\n",
    "plt.xlabel('Zeit t (ms)')\n",
    "plt.ylabel('Wirkleistung P [W], Blindleistung Q [VA]')\n",
    "for ts_name, ts_obj  in ts_dpsim_simulink.items():\n",
    "    if ts_name in ['Blindleistung_PCC','Wirkleistung_PCC']:\n",
    "        plt.plot(1000*ts_obj.time, ts_obj.values, label=ts_name)\n",
    "plt.axhline(y =2465000, color = 'r', linestyle = '-', label='2.465 MW')\n",
    "plt.ylim(-5e6, 6e6)\n",
    "plt.legend()\n",
    "plt.show()"
   ]
  },
  {
   "cell_type": "code",
   "execution_count": null,
   "id": "78a890b3-4d03-4d31-bfc9-0db2f6633675",
   "metadata": {},
   "outputs": [],
   "source": [
    "plt.figure(figsize=(12,6))\n",
    "plt.title('Spannung Node 2 - DPsim')\n",
    "plt.xlabel('Zeit t [ms]')\n",
    "plt.ylabel('Spannung U [V]')\n",
    "for ts_name, ts_obj  in ts_dpsim.items():\n",
    "    if ts_name in ['Spannung_Node_2_0','Spannung_Node_2_1','Spannung_Node_2_2']:\n",
    "        plt.plot(1000*ts_obj.time, ts_obj.values, label=ts_name)\n",
    "plt.axhline(y =400, color = 'r', linestyle = '-')\n",
    "plt.axhline(y =-400, color = 'r', linestyle = '-')\n",
    "plt.legend()\n",
    "plt.show()"
   ]
  },
  {
   "cell_type": "code",
   "execution_count": null,
   "id": "f97640db-6d31-4f9d-a463-881499452670",
   "metadata": {},
   "outputs": [],
   "source": [
    "plt.figure(figsize=(12,6))\n",
    "plt.title('Leistung - DPsim')\n",
    "plt.xlabel('Zeit t [ms]')\n",
    "plt.ylabel('Spannung U [V]')\n",
    "for ts_name, ts_obj  in ts_dpsim.items():\n",
    "    if ts_name in ['P_elec','Q_elec']:\n",
    "        plt.plot(1000*ts_obj.time, ts_obj.values, label=ts_name)\n",
    "        \n",
    "plt.legend()\n",
    "plt.show()"
   ]
  },
  {
   "cell_type": "code",
   "execution_count": null,
   "id": "a202dbeb-f06b-439b-a8dd-dddbc5eb68bd",
   "metadata": {},
   "outputs": [],
   "source": []
  }
 ],
 "metadata": {
  "kernelspec": {
   "display_name": "Python 3 (ipykernel)",
   "language": "python",
   "name": "python3"
  },
  "language_info": {
   "codemirror_mode": {
    "name": "ipython",
    "version": 3
   },
   "file_extension": ".py",
   "mimetype": "text/x-python",
   "name": "python",
   "nbconvert_exporter": "python",
   "pygments_lexer": "ipython3",
   "version": "3.9.13"
  },
  "vscode": {
   "interpreter": {
    "hash": "767d51c1340bd893661ea55ea3124f6de3c7a262a8b4abca0554b478b1e2ff90"
   }
  }
 },
 "nbformat": 4,
 "nbformat_minor": 5
}
