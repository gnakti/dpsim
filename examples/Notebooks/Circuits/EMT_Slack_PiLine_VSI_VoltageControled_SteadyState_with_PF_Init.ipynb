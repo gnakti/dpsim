{
 "cells": [
  {
   "cell_type": "markdown",
   "metadata": {},
   "source": [
    "# EMT Simulation of topology with slack, line and VSI"
   ]
  },
  {
   "cell_type": "code",
   "execution_count": null,
   "metadata": {
    "tags": []
   },
   "outputs": [],
   "source": [
    "from villas.dataprocessing.readtools import *\n",
    "from villas.dataprocessing.timeseries import *\n",
    "import numpy as np\n",
    "import matplotlib.pyplot as plt\n",
    "import re\n",
    "#import dpsimpy\n",
    "\n",
    "%matplotlib widget"
   ]
  },
  {
   "cell_type": "code",
   "execution_count": null,
   "metadata": {
    "tags": []
   },
   "outputs": [],
   "source": [
    "import os\n",
    "import subprocess\n",
    "\n",
    "#%matplotlib widget\n",
    "\n",
    "name = 'EMT_Slack_PiLine_VSI_VoltageControlled_SteadyState_with_PF_Init'\n",
    "\n",
    "dpsim_path = subprocess.Popen(['git', 'rev-parse', '--show-toplevel'], stdout=subprocess.PIPE).communicate()[0].rstrip().decode('utf-8')\n",
    "\n",
    "path_exec = dpsim_path + '/build/dpsim/examples/cxx/'\n",
    "sim = subprocess.Popen([path_exec + name], stdout=subprocess.PIPE, stderr=subprocess.STDOUT)\n",
    "print(sim.communicate()[0].decode())"
   ]
  },
  {
   "cell_type": "code",
   "execution_count": null,
   "metadata": {
    "tags": []
   },
   "outputs": [],
   "source": [
    "modelName = 'EMT_Slack_PiLine_VSI_VoltageControlled_SteadyState_with_PF_Init_EMT'\n",
    "path = 'logs/' + modelName + '/'\n",
    "dpsim_result_file = path + modelName + '.csv'\n",
    "PEAK1PH_TO_RMS3PH = np.sqrt(3.0/2.0)\n",
    "ts_dpsim = read_timeseries_csv(dpsim_result_file)\n",
    "# ts_dpsim_simulink = read_timeseries_csv('logs/pcc_stationary_simulink.csv')"
   ]
  },
  {
   "cell_type": "code",
   "execution_count": null,
   "metadata": {
    "tags": []
   },
   "outputs": [],
   "source": [
    "plt.figure(figsize=(12,6))\n",
    "plt.title('Spannung PCC - DPsim')\n",
    "plt.xlabel('Zeit t [ms]')\n",
    "plt.ylabel('Spannung U [V]')\n",
    "for ts_name, ts_obj  in ts_dpsim.items():\n",
    "    if ts_name in ['Spannung_PCC_0', 'Spannung_PCC_1', 'Spannung_PCC_2']:\n",
    "        plt.plot(ts_obj.time, PEAK1PH_TO_RMS3PH*ts_obj.values, label=ts_name)\n",
    "plt.axhline(y =400, color = 'r', linestyle = '-')\n",
    "plt.axhline(y =-400, color = 'r', linestyle = '-')\n",
    "plt.ylim(-2000,2250)\n",
    "plt.legend()\n",
    "plt.show()"
   ]
  },
  {
   "cell_type": "code",
   "execution_count": null,
   "metadata": {
    "tags": []
   },
   "outputs": [],
   "source": [
    "plt.figure(figsize=(12,6))\n",
    "plt.title('Spannung PCC - Simulink')\n",
    "plt.xlabel('Zeit t [ms]')\n",
    "plt.ylabel('Spannung U [V]')\n",
    "for ts_name, ts_obj  in ts_dpsim_simulink.items():\n",
    "    if ts_name in ['Spannung_PCC_0', 'Spannung_PCC_1', 'Spannung_PCC_2']:\n",
    "        plt.plot(1000*ts_obj.time, ts_obj.values, label=ts_name)\n",
    "plt.axhline(y =400, color = 'r', linestyle = '-')\n",
    "plt.axhline(y =-400, color = 'r', linestyle = '-')\n",
    "plt.ylim(-2000,2250)\n",
    "plt.legend()\n",
    "plt.show()"
   ]
  },
  {
   "cell_type": "code",
   "execution_count": null,
   "metadata": {
    "tags": []
   },
   "outputs": [],
   "source": [
    "plt.figure(figsize=(12,6))\n",
    "plt.title('Eingangsspannung Wechselrichter - DPsim')\n",
    "plt.xlabel('Zeit t [ms]')\n",
    "plt.ylabel('Spannung U [V]')\n",
    "for ts_name, ts_obj  in ts_dpsim.items():\n",
    "    if ts_name in ['Spannung_Quelle_0','Spannung_Quelle_1','Spannung_Quelle_2']:\n",
    "        plt.plot(1000*ts_obj.time, ts_obj.values, label=ts_name)\n",
    "plt.axhline(y =400, color = 'r', linestyle = '-')\n",
    "plt.axhline(y =-400, color = 'r', linestyle = '-')\n",
    "plt.legend()\n",
    "plt.show()"
   ]
  },
  {
   "cell_type": "code",
   "execution_count": null,
   "metadata": {},
   "outputs": [],
   "source": [
    "plt.figure(figsize=(12,6))\n",
    "plt.title('Strom RLC - DPsim')\n",
    "plt.xlabel('Zeit t [ms]')\n",
    "plt.ylabel('Strom I [A]')\n",
    "for ts_name, ts_obj  in ts_dpsim.items():\n",
    "    if ts_name in ['Strom_RLC_0','Strom_RLC_1','Strom_RLC_2']:\n",
    "        plt.plot(1000*ts_obj.time, ts_obj.values, label=ts_name)\n",
    "plt.axhline(y =4120, color = 'r', linestyle = '-',label='4120 A')\n",
    "plt.axhline(y =-4120, color = 'r', linestyle = '-',label='-4120 A')\n",
    "plt.legend()\n",
    "plt.show()"
   ]
  },
  {
   "cell_type": "code",
   "execution_count": null,
   "metadata": {},
   "outputs": [],
   "source": [
    "plt.figure(figsize=(12,6))\n",
    "plt.title('Leistung PCC - DPsim')\n",
    "plt.xlabel('Zeit t (ms)')\n",
    "plt.ylabel('Wirkleistung P [W], Blindleistung Q [VA]')\n",
    "for ts_name, ts_obj  in ts_dpsim.items():\n",
    "    if ts_name in ['P_elec','Q_elec']:\n",
    "        plt.plot(1000*ts_obj.time, ts_obj.values, label=ts_name)\n",
    "plt.axhline(y =2465000, color = 'r', linestyle = '-', label='2.465 MW')\n",
    "plt.ylim(-5e6, 6e6)\n",
    "plt.legend()\n",
    "plt.show()\n"
   ]
  },
  {
   "cell_type": "code",
   "execution_count": null,
   "metadata": {},
   "outputs": [],
   "source": [
    "plt.figure(figsize=(12,6))\n",
    "plt.title('VCO - Phasengang')\n",
    "plt.xlabel('Zeit t (ms)')\n",
    "plt.ylabel('Phase')\n",
    "for ts_name, ts_obj  in ts_dpsim.items():\n",
    "    if ts_name in ['VCO_Phase']:\n",
    "        plt.plot(1000*ts_obj.time, ts_obj.values % 6.283, label=ts_name)\n",
    "plt.legend()\n",
    "plt.show()"
   ]
  },
  {
   "cell_type": "code",
   "execution_count": null,
   "metadata": {},
   "outputs": [],
   "source": []
  },
  {
   "cell_type": "code",
   "execution_count": null,
   "metadata": {},
   "outputs": [],
   "source": []
  }
 ],
 "metadata": {
  "kernelspec": {
   "display_name": "Python 3 (ipykernel)",
   "language": "python",
   "name": "python3"
  },
  "language_info": {
   "codemirror_mode": {
    "name": "ipython",
    "version": 3
   },
   "file_extension": ".py",
   "mimetype": "text/x-python",
   "name": "python",
   "nbconvert_exporter": "python",
   "pygments_lexer": "ipython3",
   "version": "3.9.12"
  },
  "vscode": {
   "interpreter": {
    "hash": "767d51c1340bd893661ea55ea3124f6de3c7a262a8b4abca0554b478b1e2ff90"
   }
  }
 },
 "nbformat": 4,
 "nbformat_minor": 4
}
