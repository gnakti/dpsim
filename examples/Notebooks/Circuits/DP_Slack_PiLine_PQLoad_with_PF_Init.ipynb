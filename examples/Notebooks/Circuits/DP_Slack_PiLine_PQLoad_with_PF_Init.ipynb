{
 "cells": [
  {
   "cell_type": "markdown",
   "metadata": {},
   "source": [
    "# DP Simulation of topology with slack, line and PQ load"
   ]
  },
  {
   "cell_type": "code",
   "execution_count": null,
   "metadata": {},
   "outputs": [],
   "source": [
    "from villas.dataprocessing.readtools import *\n",
    "from villas.dataprocessing.timeseries import *\n",
    "import matplotlib.pyplot as plt\n",
    "import dpsimpy\n",
    "import re\n",
    "\n",
    "# %matplotlib widget"
   ]
  },
  {
   "cell_type": "markdown",
   "metadata": {},
   "source": [
    "## Simulation"
   ]
  },
  {
   "cell_type": "code",
   "execution_count": null,
   "metadata": {},
   "outputs": [],
   "source": [
    "# Parameters\n",
    "V_nom = 20e3\n",
    "p_load_nom = 100e3\n",
    "q_load_nom = 50e3\n",
    "line_resistance = 0.05\n",
    "line_inductance = 0.1\n",
    "line_capacitance = 0.1e-6\n",
    "\n",
    "# Simulation parameters\n",
    "time_step = 0.001\n",
    "final_time = 2.0\n",
    "\n",
    "# POWERFLOW FOR INITIALIZATION\n",
    "time_step_pf = final_time\n",
    "final_time_pf = final_time + time_step_pf\n",
    "sim_name_pf = 'DP_Slack_PiLine_PQLoad_with_PF_Init_PF'\n",
    "dpsimpy.Logger.set_log_dir('logs/' + sim_name_pf)\n",
    "\n",
    "# Components\n",
    "n1_pf = dpsimpy.sp.SimNode('n1', dpsimpy.PhaseType.Single)\n",
    "n2_pf = dpsimpy.sp.SimNode('n2', dpsimpy.PhaseType.Single)\n",
    "\n",
    "extnet_pf = dpsimpy.sp.ph1.NetworkInjection('Slack', dpsimpy.LogLevel.debug)\n",
    "extnet_pf.set_parameters(voltage_set_point=V_nom)\n",
    "extnet_pf.set_base_voltage(V_nom)\n",
    "extnet_pf.modify_power_flow_bus_type(dpsimpy.PowerflowBusType.VD)\n",
    "\n",
    "line_pf = dpsimpy.sp.ph1.PiLine('PiLine', dpsimpy.LogLevel.debug)\n",
    "line_pf.set_parameters(R=line_resistance, L=line_inductance, C=line_capacitance)\n",
    "line_pf.set_base_voltage(V_nom)\n",
    "\n",
    "load_pf = dpsimpy.sp.ph1.Shunt('Load', dpsimpy.LogLevel.debug)\n",
    "load_pf.set_parameters(G=p_load_nom / V_nom**2, B=-q_load_nom / V_nom**2)\n",
    "load_pf.set_base_voltage(V_nom)\n",
    "\n",
    "# Topology\n",
    "extnet_pf.connect([n1_pf])\n",
    "line_pf.connect([n1_pf, n2_pf])\n",
    "load_pf.connect([n2_pf])\n",
    "system_pf = dpsimpy.SystemTopology(50, [n1_pf, n2_pf], [extnet_pf, line_pf, load_pf])\n",
    "\n",
    "# Logging\n",
    "logger_pf = dpsimpy.Logger(sim_name_pf)\n",
    "logger_pf.log_attribute('v1', 'v', n1_pf)\n",
    "logger_pf.log_attribute('v2', 'v', n2_pf)\n",
    "logger_pf.log_attribute('i12', 'i_intf', line_pf)\n",
    "\n",
    "# Simulation\n",
    "sim_pf = dpsimpy.Simulation(sim_name_pf, dpsimpy.LogLevel.debug)\n",
    "sim_pf.set_system(system_pf)\n",
    "sim_pf.set_time_step(time_step_pf)\n",
    "sim_pf.set_final_time(final_time_pf)\n",
    "sim_pf.set_domain(dpsimpy.Domain.SP)\n",
    "sim_pf.set_solver(dpsimpy.Solver.NRP)\n",
    "sim_pf.set_solver_component_behaviour(dpsimpy.SolverBehaviour.Initialization)\n",
    "sim_pf.do_init_from_nodes_and_terminals(False)\n",
    "sim_pf.add_logger(logger_pf)\n",
    "sim_pf.run()\n",
    "\n",
    "\n",
    "# DYNAMIC SIMULATION\n",
    "time_step_dp = time_step\n",
    "final_time_dp = final_time + time_step_dp\n",
    "sim_name_dp = 'DP_Slack_PiLine_PQLoad_with_PF_Init_DP'\n",
    "dpsimpy.Logger.set_log_dir('logs/' + sim_name_dp)\n",
    "\n",
    "# Components\n",
    "gnd = dpsimpy.dp.SimNode.gnd\n",
    "n1_dp = dpsimpy.dp.SimNode('n1', dpsimpy.PhaseType.Single)\n",
    "n2_dp = dpsimpy.dp.SimNode('n2', dpsimpy.PhaseType.Single)\n",
    "\n",
    "extnet_dp = dpsimpy.dp.ph1.NetworkInjection('Slack', dpsimpy.LogLevel.debug)\n",
    "extnet_dp.set_parameters(complex(V_nom, 0))\n",
    "\n",
    "line_dp = dpsimpy.dp.ph1.PiLine('PiLine', dpsimpy.LogLevel.debug)\n",
    "line_dp.set_parameters(line_resistance, line_inductance, line_capacitance)\n",
    "\n",
    "load_dp = dpsimpy.dp.ph1.RXLoad('Load', dpsimpy.LogLevel.debug)\n",
    "load_dp.set_parameters(p_load_nom, q_load_nom, V_nom)\n",
    "\n",
    "# Topology\n",
    "extnet_dp.connect([n1_dp])\n",
    "line_dp.connect([n1_dp, n2_dp])\n",
    "load_dp.connect([n2_dp])\n",
    "system_dp = dpsimpy.SystemTopology(50, [n1_dp, n2_dp], [extnet_dp, line_dp, load_dp])\n",
    "\n",
    "# Initialization of dynamic topology\n",
    "system_dp.init_with_powerflow(system_pf, dpsimpy.Domain.DP)\n",
    "\n",
    "# Logging\n",
    "logger_dp = dpsimpy.Logger(sim_name_dp)\n",
    "logger_dp.log_attribute('v1', 'v', n1_dp)\n",
    "logger_dp.log_attribute('v2', 'v', n2_dp)\n",
    "logger_dp.log_attribute('i12', 'i_intf', line_dp)\n",
    "logger_dp.log_attribute('irx', 'i_intf', load_dp)\n",
    "\n",
    "# load step sized in absolute terms\n",
    "load_switch = dpsimpy.dp.ph1.Switch(\"Load_Add_Switch_n2\", dpsimpy.LogLevel.debug)\n",
    "connection_node = system_dp.node('n2')\n",
    "resistance = np.abs(connection_node.initial_single_voltage())**2 / 100e3\n",
    "load_switch.set_parameters(1e9, resistance)\n",
    "load_switch.open()\n",
    "system_dp.add(load_switch)\n",
    "system_dp.connect_component(load_switch, [gnd, system_dp.node('n2')])\n",
    "logger_dp.log_attribute('switchedload_i', 'i_intf', load_switch)\n",
    "load_step_event = dpsimpy.event.SwitchEvent(0.1 - time_step_dp, load_switch, True)\n",
    "\n",
    "# Simulation\n",
    "sim_dp = dpsimpy.Simulation(sim_name_dp, dpsimpy.LogLevel.debug)\n",
    "sim_dp.set_system(system_dp)\n",
    "sim_dp.set_time_step(time_step_dp)\n",
    "sim_dp.set_final_time(final_time_dp)\n",
    "sim_dp.set_domain(dpsimpy.Domain.DP)\n",
    "sim_dp.add_logger(logger_dp)\n",
    "sim_dp.add_event(load_step_event)\n",
    "sim_dp.run()"
   ]
  },
  {
   "cell_type": "markdown",
   "metadata": {},
   "source": [
    "## PF results"
   ]
  },
  {
   "cell_type": "code",
   "execution_count": null,
   "metadata": {},
   "outputs": [],
   "source": [
    "modelName = 'DP_Slack_PiLine_PQLoad_with_PF_Init_PF'\n",
    "path = 'logs/' + modelName + '/'\n",
    "dpsim_result_file = path + modelName + '.csv'\n",
    "\n",
    "ts_dpsim_pf = read_timeseries_csv(dpsim_result_file)"
   ]
  },
  {
   "cell_type": "markdown",
   "metadata": {},
   "source": [
    "## DP results"
   ]
  },
  {
   "cell_type": "code",
   "execution_count": null,
   "metadata": {},
   "outputs": [],
   "source": [
    "modelName = 'DP_Slack_PiLine_PQLoad_with_PF_Init_DP'\n",
    "path = 'logs/' + modelName + '/'\n",
    "dpsim_result_file = path + modelName + '.csv'\n",
    "\n",
    "ts_dpsim = read_timeseries_csv(dpsim_result_file)"
   ]
  },
  {
   "cell_type": "code",
   "execution_count": null,
   "metadata": {},
   "outputs": [],
   "source": [
    "plt.figure(figsize=(12,6))\n",
    "for ts_name, ts_obj  in ts_dpsim.items():\n",
    "        if ts_name in ['v1', 'v2']:\n",
    "                plt.plot(ts_obj.time, ts_obj.abs().values, label=ts_name)\n",
    "for ts_name, ts_obj  in ts_dpsim_pf.items():\n",
    "        plt.plot(ts_obj.time, ts_obj.abs().values, label=ts_name+'_pf', linestyle=':')\n",
    "plt.xlim(4.9, 5.5)\n",
    "plt.legend()\n",
    "plt.show()"
   ]
  },
  {
   "cell_type": "code",
   "execution_count": null,
   "metadata": {},
   "outputs": [],
   "source": [
    "plt.figure(figsize=(12,6))\n",
    "for ts_name, ts_obj  in ts_dpsim.items():\n",
    "        if ts_name in ['i12', 'irx']:\n",
    "                plt.plot(ts_obj.time, ts_obj.abs().values, label=ts_name)\n",
    "plt.xlim(4.9, 5.5)\n",
    "plt.legend()\n",
    "plt.show()"
   ]
  },
  {
   "cell_type": "code",
   "execution_count": null,
   "metadata": {},
   "outputs": [],
   "source": [
    "Fs = int(1 / (ts_dpsim['i12'].time[1] - ts_dpsim['i12'].time[0]))\n",
    "plt.figure(figsize=(12,6))\n",
    "plt.magnitude_spectrum(ts_dpsim['i12'].values, Fs=Fs, label='i12')\n",
    "\n",
    "plt.xlim(-6,5)\n",
    "plt.legend()\n",
    "plt.show()"
   ]
  },
  {
   "cell_type": "code",
   "execution_count": null,
   "metadata": {},
   "outputs": [],
   "source": []
  }
 ],
 "metadata": {
  "kernelspec": {
   "display_name": "Python 3 (ipykernel)",
   "language": "python",
   "name": "python3"
  },
  "language_info": {
   "codemirror_mode": {
    "name": "ipython",
    "version": 3
   },
   "file_extension": ".py",
   "mimetype": "text/x-python",
   "name": "python",
   "nbconvert_exporter": "python",
   "pygments_lexer": "ipython3",
   "version": "3.9.12"
  }
 },
 "nbformat": 4,
 "nbformat_minor": 4
}
