{
 "cells": [
  {
   "cell_type": "code",
   "execution_count": null,
   "id": "cc7bc645-9bac-475e-9414-047c81f429f3",
   "metadata": {
    "tags": []
   },
   "outputs": [],
   "source": [
    "from villas.dataprocessing.readtools import *\n",
    "from villas.dataprocessing.timeseries import *\n",
    "import numpy as np\n",
    "import matplotlib.pyplot as plt\n",
    "import re\n",
    "# import dpsimpy\n",
    "\n",
    "%matplotlib widget"
   ]
  },
  {
   "cell_type": "code",
   "execution_count": null,
   "id": "e8df5d5a-a066-4669-9310-3aa8d7ccaa95",
   "metadata": {
    "tags": []
   },
   "outputs": [],
   "source": [
    "import os\n",
    "import subprocess\n",
    "\n",
    "cpp_examples = ['EMT_Slack_PiLine_VSI_VoltageControlled_SteadyState_with_PF_Init',\n",
    "                'DP_Slack_PiLine_VSI_VoltageControlled_SteadyState_with_PF_Init',\n",
    "                'SP_Slack_PiLine_VSI_VoltageControlled_SteadyState_with_PF_Init']\n",
    "\n",
    "dpsim_path = subprocess.Popen(['git', 'rev-parse', '--show-toplevel'], stdout=subprocess.PIPE).communicate()[0].rstrip().decode('utf-8')\n",
    "\n",
    "path_exec = dpsim_path + '/build/dpsim/examples/cxx/'\n",
    "\n",
    "for example in cpp_examples:\n",
    "    sim = subprocess.Popen([path_exec + example], stdout=subprocess.PIPE, stderr=subprocess.STDOUT)\n",
    "    print(sim.communicate()[0].decode())"
   ]
  },
  {
   "cell_type": "code",
   "execution_count": null,
   "id": "1f06efec-2803-4379-9724-a4e108adc9a8",
   "metadata": {
    "tags": []
   },
   "outputs": [],
   "source": [
    "modelName = 'EMT_Slack_PiLine_VSI_VoltageControlled_SteadyState_with_PF_Init_EMT'\n",
    "path = 'logs/' + modelName + '/'\n",
    "dpsim_result_file = path + modelName + '.csv'\n",
    "PEAK1PH_TO_RMS3PH = np.sqrt(3.0/2.0)\n",
    "ts_dpsim_emt = read_timeseries_csv(dpsim_result_file)"
   ]
  },
  {
   "cell_type": "code",
   "execution_count": null,
   "id": "a3edd706-83fa-4d3a-b342-1e53fa754348",
   "metadata": {
    "tags": []
   },
   "outputs": [],
   "source": [
    "modelName = 'DP_Slack_PiLine_VSI_VoltageControlled_SteadyState_with_PF_Init_DP'\n",
    "path = 'logs/' + modelName + '/'\n",
    "dpsim_result_file = path + modelName + '.csv'\n",
    "ts_dpsim_dp = read_timeseries_csv(dpsim_result_file)"
   ]
  },
  {
   "cell_type": "code",
   "execution_count": null,
   "id": "98a38ea7-c891-4680-90a0-12e387773444",
   "metadata": {
    "tags": []
   },
   "outputs": [],
   "source": [
    "modelName = 'SP_Slack_PiLine_VSI_VoltageControlled_SteadyState_with_PF_Init_SP'\n",
    "path = 'logs/' + modelName + '/'\n",
    "dpsim_result_file = path + modelName + '.csv'\n",
    "ts_dpsim_sp = read_timeseries_csv(dpsim_result_file)"
   ]
  },
  {
   "cell_type": "code",
   "execution_count": null,
   "id": "b4bb8c68-e844-427a-88b3-945cd634b2b7",
   "metadata": {
    "tags": []
   },
   "outputs": [],
   "source": [
    "plt.figure(figsize=(12,6))\n",
    "plt.title('Spannung PCC - DPsim')\n",
    "plt.xlabel('Time [s]')\n",
    "plt.ylabel('Voltage RMS [V]')\n",
    "\n",
    "for name in ['Spannung_PCC']:\n",
    "    # plt.plot(ts_dpsim_sp[name].time, ts_dpsim_sp[name].frequency_shift(60).values, label=name + ' SP backshift')\n",
    "    plt.plot(ts_dpsim_dp[name].time, ts_dpsim_dp[name].frequency_shift(60).values, label=name + ' DP backshift')\n",
    "    plt.plot(ts_dpsim_emt[name+'_0'].time, np.sqrt(3/2)*ts_dpsim_emt[name+'_0'].values, label=name + ' EMT', linestyle='--')\n",
    "\n",
    "plt.axhline(y =400, color = 'r', linestyle = '-')\n",
    "plt.axhline(y =-400, color = 'r', linestyle = '-')\n",
    "plt.ylim(-2000,2250)\n",
    "plt.legend()\n",
    "plt.show()"
   ]
  },
  {
   "cell_type": "code",
   "execution_count": null,
   "id": "b00c3da6-9014-457d-ab78-0b6e2481467a",
   "metadata": {},
   "outputs": [],
   "source": [
    "# plt.figure(figsize=(12,6))\n",
    "# plt.title('Spannung PCC - Simulink')\n",
    "# plt.xlabel('Zeit t [ms]')\n",
    "# plt.ylabel('Spannung U [V]')\n",
    "# for ts_name, ts_obj  in ts_dpsim_v.items():\n",
    "#     if ts_name in ['Spannung_PCC_0', 'Spannung_PCC_1', 'Spannung_PCC_2']:\n",
    "#         plt.plot(1000*ts_obj.time, ts_obj.values, label=ts_name)\n",
    "# plt.axhline(y =400, color = 'r', linestyle = '-')\n",
    "# plt.axhline(y =-400, color = 'r', linestyle = '-')\n",
    "# plt.ylim(-2000,2250)\n",
    "# plt.legend()\n",
    "# plt.show()"
   ]
  },
  {
   "cell_type": "code",
   "execution_count": null,
   "id": "19793d0b-fc28-446f-9f22-a811b8a1fa2c",
   "metadata": {},
   "outputs": [],
   "source": [
    "# plt.figure(figsize=(12,6))\n",
    "# plt.title('Phasenausgang PLL')\n",
    "# plt.xlabel('Zeit t [ms]')\n",
    "# plt.ylabel('Phase phi [rad/sec]')\n",
    "# for ts_name, ts_obj  in ts_dpsim.items():\n",
    "#     if ts_name in ['PLL_Phase_0']:\n",
    "#         plt.plot(1000*ts_obj.time, (ts_obj.values)%(6.28319), label=ts_name)\n",
    "# plt.axhline(y =0, color = 'r', linestyle = '-')\n",
    "# plt.axhline(y =6.28319, color = 'r', linestyle = '-')\n",
    "# plt.legend()\n",
    "# plt.show()"
   ]
  },
  {
   "cell_type": "code",
   "execution_count": null,
   "id": "0e97414d-dfb3-4c3f-b259-44cca6eb8807",
   "metadata": {},
   "outputs": [],
   "source": [
    "# plt.figure(figsize=(12,6))\n",
    "# plt.title('Eingangsspannung Wechselrichter - DPsim')\n",
    "# plt.xlabel('Zeit t [ms]')\n",
    "# plt.ylabel('Spannung U [V]')\n",
    "# for ts_name, ts_obj  in ts_dpsim.items():\n",
    "#     if ts_name in ['Spannung_Quelle_0','Spannung_Quelle_1','Spannung_Quelle_2']:\n",
    "#         plt.plot(1000*ts_obj.time, ts_obj.values, label=ts_name)\n",
    "# plt.axhline(y =400, color = 'r', linestyle = '-')\n",
    "# plt.axhline(y =-400, color = 'r', linestyle = '-')\n",
    "# plt.legend()\n",
    "# plt.show()"
   ]
  },
  {
   "cell_type": "code",
   "execution_count": null,
   "id": "7b2c1319-8600-480f-8c66-bc15491edd3f",
   "metadata": {},
   "outputs": [],
   "source": [
    "# plt.figure(figsize=(12,6))\n",
    "# plt.title('Strom RLC - DPsim')\n",
    "# plt.xlabel('Zeit t [ms]')\n",
    "# plt.ylabel('Strom I [A]')\n",
    "# for ts_name, ts_obj  in ts_dpsim.items():\n",
    "#     if ts_name in ['Strom_RLC_0','Strom_RLC_1','Strom_RLC_2']:\n",
    "#         plt.plot(1000*ts_obj.time, ts_obj.values, label=ts_name)\n",
    "# plt.axhline(y =4120, color = 'r', linestyle = '-',label='4120 A')\n",
    "# plt.axhline(y =-4120, color = 'r', linestyle = '-',label='-4120 A')\n",
    "# plt.legend()\n",
    "# plt.show()"
   ]
  },
  {
   "cell_type": "code",
   "execution_count": null,
   "id": "43348ffc-862b-4c24-a96e-82518aab7b82",
   "metadata": {},
   "outputs": [],
   "source": [
    "# plt.figure(figsize=(12,6))\n",
    "# plt.title('Strom RLC - Simulink')\n",
    "# plt.xlabel('Zeit t [ms]')\n",
    "# plt.ylabel('Strom I [A]')\n",
    "# for ts_name, ts_obj  in ts_dpsim_simulink.items():\n",
    "#     if ts_name in ['Current_RLC_0','Current_RLC_1','Current_RLC_2']:\n",
    "#         plt.plot(1000*ts_obj.time, ts_obj.values, label=ts_name)\n",
    "# plt.axhline(y =4120, color = 'r', linestyle = '-',label='4120 A')\n",
    "# plt.axhline(y =-4120, color = 'r', linestyle = '-',label='-4120 A')\n",
    "# plt.legend()\n",
    "# plt.show()"
   ]
  },
  {
   "cell_type": "code",
   "execution_count": null,
   "id": "04bcfee1-2f23-4c4d-b598-2b87961c9c75",
   "metadata": {},
   "outputs": [],
   "source": [
    "# plt.figure(figsize=(12,6))\n",
    "# plt.title('Leistung PCC - DPsim')\n",
    "# plt.xlabel('Zeit t (ms)')\n",
    "# plt.ylabel('Wirkleistung P [W], Blindleistung Q [VA]')\n",
    "# for ts_name, ts_obj  in ts_dpsim.items():\n",
    "#     if ts_name in ['P_elec','Q_elec']:\n",
    "#         plt.plot(1000*ts_obj.time, ts_obj.values, label=ts_name)\n",
    "# plt.axhline(y =2465000, color = 'r', linestyle = '-', label='2.465 MW')\n",
    "# plt.ylim(-5e6, 6e6)\n",
    "# plt.legend()\n",
    "# plt.show()\n"
   ]
  },
  {
   "cell_type": "code",
   "execution_count": null,
   "id": "a08bf507-9eb5-42c9-81e8-beeec8d9531d",
   "metadata": {},
   "outputs": [],
   "source": [
    "# plt.figure(figsize=(12,6))\n",
    "# plt.title('Leistung PCC - Simulink')\n",
    "# plt.xlabel('Zeit t (ms)')\n",
    "# plt.ylabel('Wirkleistung P [W], Blindleistung Q [VA]')\n",
    "# for ts_name, ts_obj  in ts_dpsim_simulink.items():\n",
    "#     if ts_name in ['Blindleistung_PCC','Wirkleistung_PCC']:\n",
    "#         plt.plot(1000*ts_obj.time, ts_obj.values, label=ts_name)\n",
    "# plt.axhline(y =2465000, color = 'r', linestyle = '-', label='2.465 MW')\n",
    "# plt.ylim(-5e6, 6e6)\n",
    "# plt.legend()\n",
    "# plt.show()"
   ]
  },
  {
   "cell_type": "code",
   "execution_count": null,
   "id": "78a890b3-4d03-4d31-bfc9-0db2f6633675",
   "metadata": {},
   "outputs": [],
   "source": []
  },
  {
   "cell_type": "code",
   "execution_count": null,
   "id": "38ab1773-b66a-4420-91a6-815d8e939c5a",
   "metadata": {},
   "outputs": [],
   "source": []
  }
 ],
 "metadata": {
  "kernelspec": {
   "display_name": "Python 3 (ipykernel)",
   "language": "python",
   "name": "python3"
  },
  "language_info": {
   "codemirror_mode": {
    "name": "ipython",
    "version": 3
   },
   "file_extension": ".py",
   "mimetype": "text/x-python",
   "name": "python",
   "nbconvert_exporter": "python",
   "pygments_lexer": "ipython3",
   "version": "3.9.13"
  },
  "vscode": {
   "interpreter": {
    "hash": "767d51c1340bd893661ea55ea3124f6de3c7a262a8b4abca0554b478b1e2ff90"
   }
  }
 },
 "nbformat": 4,
 "nbformat_minor": 5
}
